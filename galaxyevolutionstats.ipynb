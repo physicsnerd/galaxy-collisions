{
 "cells": [
  {
   "cell_type": "code",
   "execution_count": 1,
   "id": "7b694da4-bf28-4afd-aa8e-9e60bb47cd61",
   "metadata": {},
   "outputs": [],
   "source": [
    "import matplotlib.pyplot as plt\n",
    "import numpy as np\n",
    "import scipy.constants as c\n",
    "import random\n",
    "%matplotlib inline"
   ]
  },
  {
   "cell_type": "code",
   "execution_count": 2,
   "id": "b6d4fe44-7bb0-43bb-be12-8ce560e01378",
   "metadata": {},
   "outputs": [],
   "source": [
    "def rand_type(initial_type_ratio):\n",
    "    val = random.random()\n",
    "    if val < initial_type_ratio:\n",
    "        return 'elliptical'\n",
    "    return 'spiral'\n",
    "\n",
    "def gravity_force(galaxy_one, galaxy_two):\n",
    "    G = c.G\n",
    "    dist = galaxy_one.distance(galaxy_two)\n",
    "    force = (galaxy_one.mass * galaxy_two.mass)/dist**2\n",
    "    angle = galaxy_one.angle(galaxy_two)\n",
    "    xforce = force * np.cos(angle)\n",
    "    yforce = force * np.sin(angle)\n",
    "    return xforce, yforce\n",
    "\n",
    "class Galaxy:\n",
    "    \n",
    "    def __init__(self, id_, x, y, mass, gal_type):\n",
    "        self.id_ = id_\n",
    "        self.x = x\n",
    "        self.y = y\n",
    "        self.vx = 0\n",
    "        self.vy = 0\n",
    "        self.mass = mass\n",
    "        self.gal_type = gal_type\n",
    "        self.active = True\n",
    "        self.in_visible_universe = True\n",
    "        if gal_type == 'elliptical':\n",
    "            self.color = 'r'\n",
    "        else:\n",
    "            self.color = 'b'\n",
    "    \n",
    "    def __repr__(self):\n",
    "        return f'Galaxy #{self.id_}:\\n\\t mass: {self.mass}\\n\\t coordinates\\n\\t ({self.x}, {self.y})\\n\\t velocity: ({self.vx}, {self.vy})\\n\\t type: {self.gal_type}\\n'\n",
    "    \n",
    "    def __str__(self):\n",
    "        return f'Galaxy #{self.id_}:\\n\\t mass: {self.mass}\\n\\t coordinates\\n\\t ({self.x}, {self.y})\\n\\t velocity: ({self.vx}, {self.vy})\\n\\t type: {self.gal_type}\\n'\n",
    "    \n",
    "    def distance_x(self, other_galaxy):\n",
    "        return other_galaxy.x - self.x\n",
    "    \n",
    "    def distance_y(self, other_galaxy):\n",
    "        return other_galaxy.y - self.y\n",
    "    \n",
    "    def angle(self, other_galaxy):\n",
    "        x = self.distance_x(other_galaxy)\n",
    "        y = self.distance_y(other_galaxy)\n",
    "        return np.arctan2(y, x)\n",
    "    \n",
    "    def distance(self, other_galaxy):\n",
    "        return np.sqrt((self.x - other_galaxy.x)**2 + (self.y - other_galaxy.y)**2)\n",
    "    \n",
    "    def visible(self, universe_size):\n",
    "        if self.x <= universe_size and self.y <= universe_size:\n",
    "            return True\n",
    "        return False\n",
    "    \n",
    "    def collide(self, other_galaxy):\n",
    "        other_galaxy.active = False\n",
    "        self.gal_type = 'elliptical'\n",
    "        self.color = 'r'\n",
    "        total_mass = self.mass + other_galaxy.mass #next lines for conservation of momentum\n",
    "        self.vx = (self.mass * self.vx + other_galaxy.mass * other_galaxy.vx) / total_mass\n",
    "        self.vy = (self.mass * self.vy + other_galaxy.mass * other_galaxy.vy) / total_mass\n",
    "        self.mass += total_mass\n",
    "    \n",
    "    def time_update(self, other_galaxy_list, universe_size):\n",
    "        self.in_visible_universe = self.visible(universe_size)\n",
    "        for galaxy in other_galaxy_list:\n",
    "            if (galaxy != self) and (galaxy.active):\n",
    "                collision_distance = self.mass/galaxy.mass\n",
    "                force_x, force_y = gravity_force(self, galaxy)\n",
    "                ax, ay = force_x/self.mass, force_y/self.mass\n",
    "                self.vx += ax * time_step\n",
    "                self.vy += ay * time_step\n",
    "                self.x += self.vx * time_step\n",
    "                self.y += self.vy * time_step\n",
    "                if self.distance(galaxy) < collision_distance:\n",
    "                    self.collide(galaxy)\n",
    "            elif (galaxy == self) and (galaxy.active):\n",
    "                self.x += self.vx * time_step\n",
    "                self.y += self.vy * time_step"
   ]
  },
  {
   "cell_type": "code",
   "execution_count": 5,
   "id": "494043e5-5b49-4d5b-8b9b-afcfba84d2f6",
   "metadata": {},
   "outputs": [],
   "source": [
    "def simulate_ratio(universe_size, galaxy_number, initial_type_ratio, time_step, time_max):\n",
    "    time = 0\n",
    "    galaxies = []\n",
    "\n",
    "    x = np.random.randint(0, universe_size, galaxy_number)\n",
    "    y = np.random.randint(0, universe_size, galaxy_number)\n",
    "    masses = np.random.randint(100, 1000, galaxy_number)\n",
    "\n",
    "    for i in range(len(x)):\n",
    "        gal_type = rand_type(initial_type_ratio)\n",
    "        galaxies.append(Galaxy(i, x[i], y[i], masses[i], gal_type))\n",
    "\n",
    "    while time <= time_max:\n",
    "        for galaxy in galaxies:\n",
    "            if galaxy.active:\n",
    "                galaxy.time_update(galaxies, universe_size)\n",
    "\n",
    "        time += time_step\n",
    "\n",
    "    total = 0\n",
    "    elliptical = 0\n",
    "    for galaxy in galaxies:\n",
    "        if galaxy.visible:\n",
    "            total += 1\n",
    "            if galaxy.gal_type == 'elliptical':\n",
    "                elliptical += 1\n",
    "    \n",
    "    return round(elliptical/total, 4)"
   ]
  },
  {
   "cell_type": "code",
   "execution_count": 7,
   "id": "322b01cf-a36c-4b7a-ae85-a74182ec27d0",
   "metadata": {},
   "outputs": [
    {
     "name": "stderr",
     "output_type": "stream",
     "text": [
      "C:\\Users\\Auden\\AppData\\Local\\Temp\\ipykernel_30532\\496291940.py:10: RuntimeWarning: overflow encountered in long_scalars\n",
      "  force = (galaxy_one.mass * galaxy_two.mass)/dist**2\n"
     ]
    },
    {
     "data": {
      "image/png": "[encoded data removed]",
      "text/plain": [
       "<Figure size 432x288 with 1 Axes>"
      ]
     },
     "metadata": {
      "needs_background": "light"
     },
     "output_type": "display_data"
    }
   ],
   "source": [
    "universe_size = 1000\n",
    "galaxy_number = 20\n",
    "initial_type_ratios = np.arange(0, 0.5, 0.01)\n",
    "time_step = 0.05\n",
    "time_max = 120\n",
    "\n",
    "ellip_fractions = [simulate_ratio(universe_size, galaxy_number, i, time_step, time_max) for i in initial_type_ratios]\n",
    "\n",
    "plt.scatter(initial_type_ratios, ellip_fractions)\n",
    "plt.show()"
   ]
  },
  {
   "cell_type": "code",
   "execution_count": null,
   "id": "e0e9cf8e-4484-4465-92d3-06cdbe5ff74c",
   "metadata": {},
   "outputs": [],
   "source": []
  }
 ],
 "metadata": {
  "kernelspec": {
   "display_name": "Python 3 (ipykernel)",
   "language": "python",
   "name": "python3"
  },
  "language_info": {
   "codemirror_mode": {
    "name": "ipython",
    "version": 3
   },
   "file_extension": ".py",
   "mimetype": "text/x-python",
   "name": "python",
   "nbconvert_exporter": "python",
   "pygments_lexer": "ipython3",
   "version": "3.10.5"
  }
 },
 "nbformat": 4,
 "nbformat_minor": 5
}
